{
 "cells": [
  {
   "cell_type": "markdown",
   "metadata": {},
   "source": [
    "Import appropriate libraries and csv file. "
   ]
  },
  {
   "cell_type": "code",
   "execution_count": 2,
   "metadata": {},
   "outputs": [
    {
     "name": "stdout",
     "output_type": "stream",
     "text": [
      "The autoreload extension is already loaded. To reload it, use:\n",
      "  %reload_ext autoreload\n"
     ]
    }
   ],
   "source": [
    "import numpy as np\n",
    "%load_ext autoreload\n",
    "%autoreload 2"
   ]
  },
  {
   "cell_type": "code",
   "execution_count": null,
   "metadata": {},
   "outputs": [],
   "source": []
  },
  {
   "cell_type": "code",
   "execution_count": 3,
   "metadata": {},
   "outputs": [],
   "source": [
    "%matplotlib inline"
   ]
  },
  {
   "cell_type": "code",
   "execution_count": 11,
   "metadata": {},
   "outputs": [],
   "source": [
    "import numpy as np\n",
    "import matplotlib.pylab as plt\n",
    "import pandas as pd\n",
    "import well_function as wells"
   ]
  },
  {
   "cell_type": "code",
   "execution_count": 5,
   "metadata": {},
   "outputs": [
    {
     "data": {
      "text/plain": [
       "<Figure size 1080x720 with 0 Axes>"
      ]
     },
     "metadata": {},
     "output_type": "display_data"
    }
   ],
   "source": [
    "fig=plt.figure(figsize=(15,10))"
   ]
  },
  {
   "cell_type": "code",
   "execution_count": 7,
   "metadata": {},
   "outputs": [],
   "source": [
    "#fileName = \"C:/Users/ekrue/Documents/Grad School/PKH Lab/Data/phagocytosis_data_7_18_22/phagocytosis_spectra_7_18_22.csv\"\n",
    "fileName = \"./Data/phagocytosis_spectra_7_18_22.csv\""
   ]
  },
  {
   "cell_type": "markdown",
   "metadata": {},
   "source": [
    "Function to Edit CSV File and Store Averages of Triplicates that were Collected"
   ]
  },
  {
   "cell_type": "code",
   "execution_count": 14,
   "metadata": {},
   "outputs": [
    {
     "ename": "IndentationError",
     "evalue": "expected an indented block (4055769781.py, line 3)",
     "output_type": "error",
     "traceback": [
      "\u001b[1;36m  Input \u001b[1;32mIn [14]\u001b[1;36m\u001b[0m\n\u001b[1;33m    df = pd.read_csv(fileName) # read csv file that was defined in previous block\u001b[0m\n\u001b[1;37m    ^\u001b[0m\n\u001b[1;31mIndentationError\u001b[0m\u001b[1;31m:\u001b[0m expected an indented block\n"
     ]
    }
   ],
   "source": [
    "if 0: \n",
    "    def wells(fileName = None,cols= [\"E01\",\"E02\",\"E03\"]):\n",
    "    df = pd.read_csv(fileName) # read csv file that was defined in previous block\n",
    "    dft = df.transpose() # transpose data\n",
    "    df = dft \n",
    "    df.columns = df.iloc[0] # replace header with first row\n",
    "    #df.drop(['Well','Content'])\n",
    "    #df.loc[\"Well\"]\n",
    "    # stupid nan, I'm grabbing the column by using the name of the first column\n",
    "    nameFirstCol = df.columns[9]\n",
    "    print(nameFirstCol)\n",
    "    wavelengths = np.array ( df[ nameFirstCol  ]  )\n",
    "    wavelengths = wavelengths[2:,2].astype(float) # still has E01/Sample in first two entries, so skipping here\n",
    "    well_condition = cols \n",
    "    print(wavelengths)\n",
    "    print( np.shape( wavelengths ))  # create array to hold data\n",
    "    numValues = np.shape( wavelengths )[0]\n",
    "    numCtls = len(well_condition) # since its a string \n",
    "\n",
    "    data = np.zeros([numCtls,numValues])\n",
    "    print(np.shape(data))\n",
    "    for i, label in enumerate( well_condition ):\n",
    "        print(i,label)\n",
    "\n",
    "        idata = np.array( df[label])\n",
    "        data[i,] = idata[2:]\n",
    "\n",
    "\n",
    "    well_condition_avg = np.average(data,axis=0) # average the triplicates\n",
    "    well_condition_standard= np.std(data,axis=0) #Standard deviation\n",
    "    output= {\"wavelengths\":wavelengths,\n",
    "             \"average\": well_condition_avg, \n",
    "             \"standard_deviation\": well_condition_standard}\n",
    "    return output"
   ]
  },
  {
   "cell_type": "code",
   "execution_count": 15,
   "metadata": {
    "scrolled": true
   },
   "outputs": [
    {
     "name": "stdout",
     "output_type": "stream",
     "text": [
      "positive_control\n",
      "nan\n",
      "[510. 511. 512. 513. 514. 515. 516. 517. 518. 519. 520. 521. 522. 523.\n",
      " 524. 525. 526. 527. 528. 529. 530. 531. 532. 533. 534. 535. 536. 537.\n",
      " 538. 539. 540. 541. 542. 543. 544. 545. 546. 547. 548. 549. 550. 551.\n",
      " 552. 553. 554. 555. 556. 557. 558. 559. 560. 561. 562. 563. 564. 565.\n",
      " 566. 567. 568. 569. 570. 571. 572. 573. 574. 575. 576. 577. 578. 579.\n",
      " 580. 581. 582. 583. 584. 585. 586. 587. 588. 589. 590. 591. 592. 593.\n",
      " 594. 595. 596. 597. 598. 599. 600. 601. 602. 603. 604. 605. 606. 607.\n",
      " 608. 609. 610. 611. 612. 613. 614. 615. 616. 617. 618. 619. 620. 621.\n",
      " 622. 623. 624. 625. 626. 627. 628. 629. 630. 631. 632. 633. 634. 635.\n",
      " 636. 637. 638. 639. 640. 641. 642. 643. 644. 645. 646. 647. 648. 649.\n",
      " 650. 651. 652. 653. 654. 655. 656. 657. 658. 659. 660. 661. 662. 663.\n",
      " 664. 665. 666. 667. 668. 669. 670. 671. 672. 673. 674. 675. 676. 677.\n",
      " 678. 679. 680. 681. 682. 683. 684. 685. 686. 687. 688. 689. 690. 691.\n",
      " 692. 693. 694. 695. 696. 697. 698. 699. 700. 701. 702.]\n",
      "(193,)\n",
      "(3, 193)\n",
      "0 E01\n",
      "1 E02\n",
      "2 E03\n",
      "negative_control\n",
      "nan\n",
      "[510. 511. 512. 513. 514. 515. 516. 517. 518. 519. 520. 521. 522. 523.\n",
      " 524. 525. 526. 527. 528. 529. 530. 531. 532. 533. 534. 535. 536. 537.\n",
      " 538. 539. 540. 541. 542. 543. 544. 545. 546. 547. 548. 549. 550. 551.\n",
      " 552. 553. 554. 555. 556. 557. 558. 559. 560. 561. 562. 563. 564. 565.\n",
      " 566. 567. 568. 569. 570. 571. 572. 573. 574. 575. 576. 577. 578. 579.\n",
      " 580. 581. 582. 583. 584. 585. 586. 587. 588. 589. 590. 591. 592. 593.\n",
      " 594. 595. 596. 597. 598. 599. 600. 601. 602. 603. 604. 605. 606. 607.\n",
      " 608. 609. 610. 611. 612. 613. 614. 615. 616. 617. 618. 619. 620. 621.\n",
      " 622. 623. 624. 625. 626. 627. 628. 629. 630. 631. 632. 633. 634. 635.\n",
      " 636. 637. 638. 639. 640. 641. 642. 643. 644. 645. 646. 647. 648. 649.\n",
      " 650. 651. 652. 653. 654. 655. 656. 657. 658. 659. 660. 661. 662. 663.\n",
      " 664. 665. 666. 667. 668. 669. 670. 671. 672. 673. 674. 675. 676. 677.\n",
      " 678. 679. 680. 681. 682. 683. 684. 685. 686. 687. 688. 689. 690. 691.\n",
      " 692. 693. 694. 695. 696. 697. 698. 699. 700. 701. 702.]\n",
      "(193,)\n",
      "(3, 193)\n",
      "0 E04\n",
      "1 E05\n",
      "2 E06\n",
      "noATP_EGTA\n",
      "nan\n",
      "[510. 511. 512. 513. 514. 515. 516. 517. 518. 519. 520. 521. 522. 523.\n",
      " 524. 525. 526. 527. 528. 529. 530. 531. 532. 533. 534. 535. 536. 537.\n",
      " 538. 539. 540. 541. 542. 543. 544. 545. 546. 547. 548. 549. 550. 551.\n",
      " 552. 553. 554. 555. 556. 557. 558. 559. 560. 561. 562. 563. 564. 565.\n",
      " 566. 567. 568. 569. 570. 571. 572. 573. 574. 575. 576. 577. 578. 579.\n",
      " 580. 581. 582. 583. 584. 585. 586. 587. 588. 589. 590. 591. 592. 593.\n",
      " 594. 595. 596. 597. 598. 599. 600. 601. 602. 603. 604. 605. 606. 607.\n",
      " 608. 609. 610. 611. 612. 613. 614. 615. 616. 617. 618. 619. 620. 621.\n",
      " 622. 623. 624. 625. 626. 627. 628. 629. 630. 631. 632. 633. 634. 635.\n",
      " 636. 637. 638. 639. 640. 641. 642. 643. 644. 645. 646. 647. 648. 649.\n",
      " 650. 651. 652. 653. 654. 655. 656. 657. 658. 659. 660. 661. 662. 663.\n",
      " 664. 665. 666. 667. 668. 669. 670. 671. 672. 673. 674. 675. 676. 677.\n",
      " 678. 679. 680. 681. 682. 683. 684. 685. 686. 687. 688. 689. 690. 691.\n",
      " 692. 693. 694. 695. 696. 697. 698. 699. 700. 701. 702.]\n",
      "(193,)\n",
      "(3, 193)\n",
      "0 F01\n",
      "1 F02\n",
      "2 F03\n",
      "noATP_noEGTA\n",
      "nan\n",
      "[510. 511. 512. 513. 514. 515. 516. 517. 518. 519. 520. 521. 522. 523.\n",
      " 524. 525. 526. 527. 528. 529. 530. 531. 532. 533. 534. 535. 536. 537.\n",
      " 538. 539. 540. 541. 542. 543. 544. 545. 546. 547. 548. 549. 550. 551.\n",
      " 552. 553. 554. 555. 556. 557. 558. 559. 560. 561. 562. 563. 564. 565.\n",
      " 566. 567. 568. 569. 570. 571. 572. 573. 574. 575. 576. 577. 578. 579.\n",
      " 580. 581. 582. 583. 584. 585. 586. 587. 588. 589. 590. 591. 592. 593.\n",
      " 594. 595. 596. 597. 598. 599. 600. 601. 602. 603. 604. 605. 606. 607.\n",
      " 608. 609. 610. 611. 612. 613. 614. 615. 616. 617. 618. 619. 620. 621.\n",
      " 622. 623. 624. 625. 626. 627. 628. 629. 630. 631. 632. 633. 634. 635.\n",
      " 636. 637. 638. 639. 640. 641. 642. 643. 644. 645. 646. 647. 648. 649.\n",
      " 650. 651. 652. 653. 654. 655. 656. 657. 658. 659. 660. 661. 662. 663.\n",
      " 664. 665. 666. 667. 668. 669. 670. 671. 672. 673. 674. 675. 676. 677.\n",
      " 678. 679. 680. 681. 682. 683. 684. 685. 686. 687. 688. 689. 690. 691.\n",
      " 692. 693. 694. 695. 696. 697. 698. 699. 700. 701. 702.]\n",
      "(193,)\n",
      "(3, 193)\n",
      "0 F04\n",
      "1 F05\n",
      "2 F06\n",
      "0uM_ATP_EGTA\n",
      "nan\n",
      "[510. 511. 512. 513. 514. 515. 516. 517. 518. 519. 520. 521. 522. 523.\n",
      " 524. 525. 526. 527. 528. 529. 530. 531. 532. 533. 534. 535. 536. 537.\n",
      " 538. 539. 540. 541. 542. 543. 544. 545. 546. 547. 548. 549. 550. 551.\n",
      " 552. 553. 554. 555. 556. 557. 558. 559. 560. 561. 562. 563. 564. 565.\n",
      " 566. 567. 568. 569. 570. 571. 572. 573. 574. 575. 576. 577. 578. 579.\n",
      " 580. 581. 582. 583. 584. 585. 586. 587. 588. 589. 590. 591. 592. 593.\n",
      " 594. 595. 596. 597. 598. 599. 600. 601. 602. 603. 604. 605. 606. 607.\n",
      " 608. 609. 610. 611. 612. 613. 614. 615. 616. 617. 618. 619. 620. 621.\n",
      " 622. 623. 624. 625. 626. 627. 628. 629. 630. 631. 632. 633. 634. 635.\n",
      " 636. 637. 638. 639. 640. 641. 642. 643. 644. 645. 646. 647. 648. 649.\n",
      " 650. 651. 652. 653. 654. 655. 656. 657. 658. 659. 660. 661. 662. 663.\n",
      " 664. 665. 666. 667. 668. 669. 670. 671. 672. 673. 674. 675. 676. 677.\n",
      " 678. 679. 680. 681. 682. 683. 684. 685. 686. 687. 688. 689. 690. 691.\n",
      " 692. 693. 694. 695. 696. 697. 698. 699. 700. 701. 702.]\n",
      "(193,)\n",
      "(1, 193)\n",
      "0 G01\n",
      "300uM_ATP_EGTA\n",
      "nan\n",
      "[510. 511. 512. 513. 514. 515. 516. 517. 518. 519. 520. 521. 522. 523.\n",
      " 524. 525. 526. 527. 528. 529. 530. 531. 532. 533. 534. 535. 536. 537.\n",
      " 538. 539. 540. 541. 542. 543. 544. 545. 546. 547. 548. 549. 550. 551.\n",
      " 552. 553. 554. 555. 556. 557. 558. 559. 560. 561. 562. 563. 564. 565.\n",
      " 566. 567. 568. 569. 570. 571. 572. 573. 574. 575. 576. 577. 578. 579.\n",
      " 580. 581. 582. 583. 584. 585. 586. 587. 588. 589. 590. 591. 592. 593.\n",
      " 594. 595. 596. 597. 598. 599. 600. 601. 602. 603. 604. 605. 606. 607.\n",
      " 608. 609. 610. 611. 612. 613. 614. 615. 616. 617. 618. 619. 620. 621.\n",
      " 622. 623. 624. 625. 626. 627. 628. 629. 630. 631. 632. 633. 634. 635.\n",
      " 636. 637. 638. 639. 640. 641. 642. 643. 644. 645. 646. 647. 648. 649.\n",
      " 650. 651. 652. 653. 654. 655. 656. 657. 658. 659. 660. 661. 662. 663.\n",
      " 664. 665. 666. 667. 668. 669. 670. 671. 672. 673. 674. 675. 676. 677.\n",
      " 678. 679. 680. 681. 682. 683. 684. 685. 686. 687. 688. 689. 690. 691.\n",
      " 692. 693. 694. 695. 696. 697. 698. 699. 700. 701. 702.]\n",
      "(193,)\n",
      "(1, 193)\n",
      "0 G02\n",
      "3mM_ATP_EGTA\n",
      "nan\n",
      "[510. 511. 512. 513. 514. 515. 516. 517. 518. 519. 520. 521. 522. 523.\n",
      " 524. 525. 526. 527. 528. 529. 530. 531. 532. 533. 534. 535. 536. 537.\n",
      " 538. 539. 540. 541. 542. 543. 544. 545. 546. 547. 548. 549. 550. 551.\n",
      " 552. 553. 554. 555. 556. 557. 558. 559. 560. 561. 562. 563. 564. 565.\n",
      " 566. 567. 568. 569. 570. 571. 572. 573. 574. 575. 576. 577. 578. 579.\n",
      " 580. 581. 582. 583. 584. 585. 586. 587. 588. 589. 590. 591. 592. 593.\n",
      " 594. 595. 596. 597. 598. 599. 600. 601. 602. 603. 604. 605. 606. 607.\n",
      " 608. 609. 610. 611. 612. 613. 614. 615. 616. 617. 618. 619. 620. 621.\n",
      " 622. 623. 624. 625. 626. 627. 628. 629. 630. 631. 632. 633. 634. 635.\n",
      " 636. 637. 638. 639. 640. 641. 642. 643. 644. 645. 646. 647. 648. 649.\n",
      " 650. 651. 652. 653. 654. 655. 656. 657. 658. 659. 660. 661. 662. 663.\n",
      " 664. 665. 666. 667. 668. 669. 670. 671. 672. 673. 674. 675. 676. 677.\n",
      " 678. 679. 680. 681. 682. 683. 684. 685. 686. 687. 688. 689. 690. 691.\n",
      " 692. 693. 694. 695. 696. 697. 698. 699. 700. 701. 702.]\n",
      "(193,)\n",
      "(1, 193)\n",
      "0 G03\n",
      "0uM_ATP_noEGTA\n",
      "nan\n",
      "[510. 511. 512. 513. 514. 515. 516. 517. 518. 519. 520. 521. 522. 523.\n",
      " 524. 525. 526. 527. 528. 529. 530. 531. 532. 533. 534. 535. 536. 537.\n",
      " 538. 539. 540. 541. 542. 543. 544. 545. 546. 547. 548. 549. 550. 551.\n",
      " 552. 553. 554. 555. 556. 557. 558. 559. 560. 561. 562. 563. 564. 565.\n",
      " 566. 567. 568. 569. 570. 571. 572. 573. 574. 575. 576. 577. 578. 579.\n",
      " 580. 581. 582. 583. 584. 585. 586. 587. 588. 589. 590. 591. 592. 593.\n",
      " 594. 595. 596. 597. 598. 599. 600. 601. 602. 603. 604. 605. 606. 607.\n",
      " 608. 609. 610. 611. 612. 613. 614. 615. 616. 617. 618. 619. 620. 621.\n",
      " 622. 623. 624. 625. 626. 627. 628. 629. 630. 631. 632. 633. 634. 635.\n",
      " 636. 637. 638. 639. 640. 641. 642. 643. 644. 645. 646. 647. 648. 649.\n",
      " 650. 651. 652. 653. 654. 655. 656. 657. 658. 659. 660. 661. 662. 663.\n",
      " 664. 665. 666. 667. 668. 669. 670. 671. 672. 673. 674. 675. 676. 677.\n",
      " 678. 679. 680. 681. 682. 683. 684. 685. 686. 687. 688. 689. 690. 691.\n",
      " 692. 693. 694. 695. 696. 697. 698. 699. 700. 701. 702.]\n",
      "(193,)\n",
      "(1, 193)\n",
      "0 G04\n",
      "300uM_ATP_noEGTA\n",
      "nan\n",
      "[510. 511. 512. 513. 514. 515. 516. 517. 518. 519. 520. 521. 522. 523.\n",
      " 524. 525. 526. 527. 528. 529. 530. 531. 532. 533. 534. 535. 536. 537.\n",
      " 538. 539. 540. 541. 542. 543. 544. 545. 546. 547. 548. 549. 550. 551.\n",
      " 552. 553. 554. 555. 556. 557. 558. 559. 560. 561. 562. 563. 564. 565.\n",
      " 566. 567. 568. 569. 570. 571. 572. 573. 574. 575. 576. 577. 578. 579.\n",
      " 580. 581. 582. 583. 584. 585. 586. 587. 588. 589. 590. 591. 592. 593.\n",
      " 594. 595. 596. 597. 598. 599. 600. 601. 602. 603. 604. 605. 606. 607.\n",
      " 608. 609. 610. 611. 612. 613. 614. 615. 616. 617. 618. 619. 620. 621.\n",
      " 622. 623. 624. 625. 626. 627. 628. 629. 630. 631. 632. 633. 634. 635.\n",
      " 636. 637. 638. 639. 640. 641. 642. 643. 644. 645. 646. 647. 648. 649.\n",
      " 650. 651. 652. 653. 654. 655. 656. 657. 658. 659. 660. 661. 662. 663.\n",
      " 664. 665. 666. 667. 668. 669. 670. 671. 672. 673. 674. 675. 676. 677.\n",
      " 678. 679. 680. 681. 682. 683. 684. 685. 686. 687. 688. 689. 690. 691.\n",
      " 692. 693. 694. 695. 696. 697. 698. 699. 700. 701. 702.]\n",
      "(193,)\n",
      "(1, 193)\n",
      "0 G05\n",
      "3mM_ATP_noEGTA\n",
      "nan\n",
      "[510. 511. 512. 513. 514. 515. 516. 517. 518. 519. 520. 521. 522. 523.\n",
      " 524. 525. 526. 527. 528. 529. 530. 531. 532. 533. 534. 535. 536. 537.\n",
      " 538. 539. 540. 541. 542. 543. 544. 545. 546. 547. 548. 549. 550. 551.\n",
      " 552. 553. 554. 555. 556. 557. 558. 559. 560. 561. 562. 563. 564. 565.\n",
      " 566. 567. 568. 569. 570. 571. 572. 573. 574. 575. 576. 577. 578. 579.\n",
      " 580. 581. 582. 583. 584. 585. 586. 587. 588. 589. 590. 591. 592. 593.\n",
      " 594. 595. 596. 597. 598. 599. 600. 601. 602. 603. 604. 605. 606. 607.\n",
      " 608. 609. 610. 611. 612. 613. 614. 615. 616. 617. 618. 619. 620. 621.\n",
      " 622. 623. 624. 625. 626. 627. 628. 629. 630. 631. 632. 633. 634. 635.\n",
      " 636. 637. 638. 639. 640. 641. 642. 643. 644. 645. 646. 647. 648. 649.\n",
      " 650. 651. 652. 653. 654. 655. 656. 657. 658. 659. 660. 661. 662. 663.\n",
      " 664. 665. 666. 667. 668. 669. 670. 671. 672. 673. 674. 675. 676. 677.\n",
      " 678. 679. 680. 681. 682. 683. 684. 685. 686. 687. 688. 689. 690. 691.\n",
      " 692. 693. 694. 695. 696. 697. 698. 699. 700. 701. 702.]\n",
      "(193,)\n",
      "(1, 193)\n",
      "0 G06\n",
      "0uM_delayed_ATP_EGTA\n",
      "nan\n",
      "[510. 511. 512. 513. 514. 515. 516. 517. 518. 519. 520. 521. 522. 523.\n",
      " 524. 525. 526. 527. 528. 529. 530. 531. 532. 533. 534. 535. 536. 537.\n",
      " 538. 539. 540. 541. 542. 543. 544. 545. 546. 547. 548. 549. 550. 551.\n",
      " 552. 553. 554. 555. 556. 557. 558. 559. 560. 561. 562. 563. 564. 565.\n",
      " 566. 567. 568. 569. 570. 571. 572. 573. 574. 575. 576. 577. 578. 579.\n",
      " 580. 581. 582. 583. 584. 585. 586. 587. 588. 589. 590. 591. 592. 593.\n",
      " 594. 595. 596. 597. 598. 599. 600. 601. 602. 603. 604. 605. 606. 607.\n",
      " 608. 609. 610. 611. 612. 613. 614. 615. 616. 617. 618. 619. 620. 621.\n",
      " 622. 623. 624. 625. 626. 627. 628. 629. 630. 631. 632. 633. 634. 635.\n",
      " 636. 637. 638. 639. 640. 641. 642. 643. 644. 645. 646. 647. 648. 649.\n",
      " 650. 651. 652. 653. 654. 655. 656. 657. 658. 659. 660. 661. 662. 663.\n",
      " 664. 665. 666. 667. 668. 669. 670. 671. 672. 673. 674. 675. 676. 677.\n",
      " 678. 679. 680. 681. 682. 683. 684. 685. 686. 687. 688. 689. 690. 691.\n",
      " 692. 693. 694. 695. 696. 697. 698. 699. 700. 701. 702.]\n",
      "(193,)\n",
      "(1, 193)\n",
      "0 H01\n",
      "300uM_delayed_ATP_EGTA\n",
      "nan\n",
      "[510. 511. 512. 513. 514. 515. 516. 517. 518. 519. 520. 521. 522. 523.\n",
      " 524. 525. 526. 527. 528. 529. 530. 531. 532. 533. 534. 535. 536. 537.\n",
      " 538. 539. 540. 541. 542. 543. 544. 545. 546. 547. 548. 549. 550. 551.\n",
      " 552. 553. 554. 555. 556. 557. 558. 559. 560. 561. 562. 563. 564. 565.\n",
      " 566. 567. 568. 569. 570. 571. 572. 573. 574. 575. 576. 577. 578. 579.\n",
      " 580. 581. 582. 583. 584. 585. 586. 587. 588. 589. 590. 591. 592. 593.\n",
      " 594. 595. 596. 597. 598. 599. 600. 601. 602. 603. 604. 605. 606. 607.\n",
      " 608. 609. 610. 611. 612. 613. 614. 615. 616. 617. 618. 619. 620. 621.\n",
      " 622. 623. 624. 625. 626. 627. 628. 629. 630. 631. 632. 633. 634. 635.\n",
      " 636. 637. 638. 639. 640. 641. 642. 643. 644. 645. 646. 647. 648. 649.\n",
      " 650. 651. 652. 653. 654. 655. 656. 657. 658. 659. 660. 661. 662. 663.\n",
      " 664. 665. 666. 667. 668. 669. 670. 671. 672. 673. 674. 675. 676. 677.\n",
      " 678. 679. 680. 681. 682. 683. 684. 685. 686. 687. 688. 689. 690. 691.\n",
      " 692. 693. 694. 695. 696. 697. 698. 699. 700. 701. 702.]\n",
      "(193,)\n",
      "(1, 193)\n",
      "0 H02\n"
     ]
    },
    {
     "name": "stdout",
     "output_type": "stream",
     "text": [
      "3mM_delayed_ATP_EGTA\n",
      "nan\n",
      "[510. 511. 512. 513. 514. 515. 516. 517. 518. 519. 520. 521. 522. 523.\n",
      " 524. 525. 526. 527. 528. 529. 530. 531. 532. 533. 534. 535. 536. 537.\n",
      " 538. 539. 540. 541. 542. 543. 544. 545. 546. 547. 548. 549. 550. 551.\n",
      " 552. 553. 554. 555. 556. 557. 558. 559. 560. 561. 562. 563. 564. 565.\n",
      " 566. 567. 568. 569. 570. 571. 572. 573. 574. 575. 576. 577. 578. 579.\n",
      " 580. 581. 582. 583. 584. 585. 586. 587. 588. 589. 590. 591. 592. 593.\n",
      " 594. 595. 596. 597. 598. 599. 600. 601. 602. 603. 604. 605. 606. 607.\n",
      " 608. 609. 610. 611. 612. 613. 614. 615. 616. 617. 618. 619. 620. 621.\n",
      " 622. 623. 624. 625. 626. 627. 628. 629. 630. 631. 632. 633. 634. 635.\n",
      " 636. 637. 638. 639. 640. 641. 642. 643. 644. 645. 646. 647. 648. 649.\n",
      " 650. 651. 652. 653. 654. 655. 656. 657. 658. 659. 660. 661. 662. 663.\n",
      " 664. 665. 666. 667. 668. 669. 670. 671. 672. 673. 674. 675. 676. 677.\n",
      " 678. 679. 680. 681. 682. 683. 684. 685. 686. 687. 688. 689. 690. 691.\n",
      " 692. 693. 694. 695. 696. 697. 698. 699. 700. 701. 702.]\n",
      "(193,)\n",
      "(1, 193)\n",
      "0 H03\n",
      "0uM_delayed_ATP_noEGTA\n",
      "nan\n",
      "[510. 511. 512. 513. 514. 515. 516. 517. 518. 519. 520. 521. 522. 523.\n",
      " 524. 525. 526. 527. 528. 529. 530. 531. 532. 533. 534. 535. 536. 537.\n",
      " 538. 539. 540. 541. 542. 543. 544. 545. 546. 547. 548. 549. 550. 551.\n",
      " 552. 553. 554. 555. 556. 557. 558. 559. 560. 561. 562. 563. 564. 565.\n",
      " 566. 567. 568. 569. 570. 571. 572. 573. 574. 575. 576. 577. 578. 579.\n",
      " 580. 581. 582. 583. 584. 585. 586. 587. 588. 589. 590. 591. 592. 593.\n",
      " 594. 595. 596. 597. 598. 599. 600. 601. 602. 603. 604. 605. 606. 607.\n",
      " 608. 609. 610. 611. 612. 613. 614. 615. 616. 617. 618. 619. 620. 621.\n",
      " 622. 623. 624. 625. 626. 627. 628. 629. 630. 631. 632. 633. 634. 635.\n",
      " 636. 637. 638. 639. 640. 641. 642. 643. 644. 645. 646. 647. 648. 649.\n",
      " 650. 651. 652. 653. 654. 655. 656. 657. 658. 659. 660. 661. 662. 663.\n",
      " 664. 665. 666. 667. 668. 669. 670. 671. 672. 673. 674. 675. 676. 677.\n",
      " 678. 679. 680. 681. 682. 683. 684. 685. 686. 687. 688. 689. 690. 691.\n",
      " 692. 693. 694. 695. 696. 697. 698. 699. 700. 701. 702.]\n",
      "(193,)\n",
      "(1, 193)\n",
      "0 H04\n",
      "300uM_delayed_ATP_noEGTA\n",
      "nan\n",
      "[510. 511. 512. 513. 514. 515. 516. 517. 518. 519. 520. 521. 522. 523.\n",
      " 524. 525. 526. 527. 528. 529. 530. 531. 532. 533. 534. 535. 536. 537.\n",
      " 538. 539. 540. 541. 542. 543. 544. 545. 546. 547. 548. 549. 550. 551.\n",
      " 552. 553. 554. 555. 556. 557. 558. 559. 560. 561. 562. 563. 564. 565.\n",
      " 566. 567. 568. 569. 570. 571. 572. 573. 574. 575. 576. 577. 578. 579.\n",
      " 580. 581. 582. 583. 584. 585. 586. 587. 588. 589. 590. 591. 592. 593.\n",
      " 594. 595. 596. 597. 598. 599. 600. 601. 602. 603. 604. 605. 606. 607.\n",
      " 608. 609. 610. 611. 612. 613. 614. 615. 616. 617. 618. 619. 620. 621.\n",
      " 622. 623. 624. 625. 626. 627. 628. 629. 630. 631. 632. 633. 634. 635.\n",
      " 636. 637. 638. 639. 640. 641. 642. 643. 644. 645. 646. 647. 648. 649.\n",
      " 650. 651. 652. 653. 654. 655. 656. 657. 658. 659. 660. 661. 662. 663.\n",
      " 664. 665. 666. 667. 668. 669. 670. 671. 672. 673. 674. 675. 676. 677.\n",
      " 678. 679. 680. 681. 682. 683. 684. 685. 686. 687. 688. 689. 690. 691.\n",
      " 692. 693. 694. 695. 696. 697. 698. 699. 700. 701. 702.]\n",
      "(193,)\n",
      "(1, 193)\n",
      "0 H05\n",
      "3mM_delayed_ATP_noEGTA\n",
      "nan\n",
      "[510. 511. 512. 513. 514. 515. 516. 517. 518. 519. 520. 521. 522. 523.\n",
      " 524. 525. 526. 527. 528. 529. 530. 531. 532. 533. 534. 535. 536. 537.\n",
      " 538. 539. 540. 541. 542. 543. 544. 545. 546. 547. 548. 549. 550. 551.\n",
      " 552. 553. 554. 555. 556. 557. 558. 559. 560. 561. 562. 563. 564. 565.\n",
      " 566. 567. 568. 569. 570. 571. 572. 573. 574. 575. 576. 577. 578. 579.\n",
      " 580. 581. 582. 583. 584. 585. 586. 587. 588. 589. 590. 591. 592. 593.\n",
      " 594. 595. 596. 597. 598. 599. 600. 601. 602. 603. 604. 605. 606. 607.\n",
      " 608. 609. 610. 611. 612. 613. 614. 615. 616. 617. 618. 619. 620. 621.\n",
      " 622. 623. 624. 625. 626. 627. 628. 629. 630. 631. 632. 633. 634. 635.\n",
      " 636. 637. 638. 639. 640. 641. 642. 643. 644. 645. 646. 647. 648. 649.\n",
      " 650. 651. 652. 653. 654. 655. 656. 657. 658. 659. 660. 661. 662. 663.\n",
      " 664. 665. 666. 667. 668. 669. 670. 671. 672. 673. 674. 675. 676. 677.\n",
      " 678. 679. 680. 681. 682. 683. 684. 685. 686. 687. 688. 689. 690. 691.\n",
      " 692. 693. 694. 695. 696. 697. 698. 699. 700. 701. 702.]\n",
      "(193,)\n",
      "(1, 193)\n",
      "0 H06\n"
     ]
    }
   ],
   "source": [
    "all_data={}\n",
    "cols_names={\"positive_control\": [\"E01\",\"E02\",\"E03\"],\n",
    "           \"negative_control\": [\"E04\",\"E05\",\"E06\"],\n",
    "           \"noATP_EGTA\": [\"F01\",\"F02\",\"F03\"],\n",
    "           \"noATP_noEGTA\": [\"F04\",\"F05\",\"F06\"],\n",
    "           \"0uM_ATP_EGTA\": [\"G01\"],\n",
    "            \"300uM_ATP_EGTA\":[\"G02\"],\n",
    "            \"3mM_ATP_EGTA\": [\"G03\"],\n",
    "            \"0uM_ATP_noEGTA\":[\"G04\"],\n",
    "            \"300uM_ATP_noEGTA\": [\"G05\"],\n",
    "           \"3mM_ATP_noEGTA\": [\"G06\"],\n",
    "           \"0uM_delayed_ATP_EGTA\": [\"H01\"],\n",
    "            \"300uM_delayed_ATP_EGTA\":[\"H02\"],\n",
    "            \"3mM_delayed_ATP_EGTA\": [\"H03\"],\n",
    "            \"0uM_delayed_ATP_noEGTA\":[\"H04\"],\n",
    "            \"300uM_delayed_ATP_noEGTA\":[\"H05\"],\n",
    "           \"3mM_delayed_ATP_noEGTA\": [\"H06\"]}\n",
    "#data_path=\"C:/Users/ekrue/Documents/Grad School/PKH Lab/Data/phagocytosis_data_7_18_22/phagocytosis_spectra_7_18_22.csv\"\n",
    "for key in cols_names.keys():\n",
    "    print(key)\n",
    "    output= wells.wells(fileName, cols=cols_names[key])\n",
    "    all_data[key]=output"
   ]
  },
  {
   "cell_type": "markdown",
   "metadata": {},
   "source": [
    "Plot Relevant Graphs"
   ]
  },
  {
   "cell_type": "code",
   "execution_count": 8,
   "metadata": {},
   "outputs": [
    {
     "data": {
      "image/png": "[encoded data removed]",
      "text/plain": [
       "<Figure size 432x288 with 1 Axes>"
      ]
     },
     "metadata": {
      "needs_background": "light"
     },
     "output_type": "display_data"
    }
   ],
   "source": [
    "#Create graph comparing all controls and experimental conditions\n",
    "#myCases=[\"0uM_ATP_noEGTA\",\"300uM_ATP_noEGTA\",\"3mM_ATP_noEGTA\"]\n",
    "myCases=[\"noATP_noEGTA\",\"noATP_EGTA\"]\n",
    "myColors=[\"purple\",\"green\"]\n",
    "#for key in cols_names.keys():\n",
    "for i,key in enumerate(myCases):\n",
    "    output=all_data[key]\n",
    "    wavelengths=output[\"wavelengths\"]\n",
    "    average=output[\"average\"]\n",
    "    standard_deviation=output[\"standard_deviation\"]\n",
    "    myColor=myColors[i]\n",
    "    plt.plot(wavelengths,average,myColor,label='{} Average'.format(key), linewidth=i+1)\n",
    "    #plt.scatter(wavelengths[::5],average[::5])\n",
    "    plt.errorbar(wavelengths[::5],average[::5],yerr=standard_deviation[::5],fmt=\"o\", color=myColor)\n",
    "    plt.xlabel('Wavelengths')\n",
    "    plt.ylabel('Fluorescence Intensity')\n",
    "plt.legend(loc='center left', bbox_to_anchor=(1,0.5))\n",
    "\n",
    "plt.savefig(\"phagocytosis_7_18_22_new.jpg\",bbox_inches='tight',dpi=500)"
   ]
  },
  {
   "cell_type": "code",
   "execution_count": 9,
   "metadata": {},
   "outputs": [
    {
     "name": "stdout",
     "output_type": "stream",
     "text": [
      "[6211.3910412  6004.29268663 6213.83372449 5605.88339753 7215.06573467\n",
      " 6944.16056842 6796.52814964 6805.60068375 6685.28565001 6356.14816973\n",
      " 6425.07421488 6859.03736362 6509.76656007 6124.75873448 5726.43602562\n",
      " 6438.20891242 6288.24121321 5825.99332494 5645.6384542  5741.79863419\n",
      " 6182.1845294  5760.84521191 5933.24674094 5694.96713482 4972.12952365\n",
      " 5150.24564678 5355.3827335  5603.13287367 4976.24733665 5230.59998683\n",
      " 4894.78933833 4662.31132475 5191.81678756 4948.59012469 4973.89748811\n",
      " 5443.28089381 5096.48207645 4499.45685611 5150.08636389 4585.6264082\n",
      " 4667.63839883 4775.12068492 4134.7048531  4312.00110802 3764.19609242\n",
      " 4292.23409841 3890.42605493 3800.09581751 3588.78280201 2943.94433069\n",
      " 3902.95395253 3350.15591677 3584.94695451 3618.27742932 3491.21128295\n",
      " 3337.02212559 3997.12115848 3047.27532213 3344.06708465 3289.29347361\n",
      " 3060.94723901 2857.0768667  2586.42623453 2705.44352494 2125.03652256\n",
      " 2487.97298128 2022.37302856 1846.02221005 2064.61037486 2369.95419553\n",
      " 2210.23271776 2204.37947933 2298.66342807 2581.48329454 2197.19411978\n",
      " 2159.2273824  1729.62603537 1307.04994379 1585.4581532  2068.41329418\n",
      " 2177.27168723 2421.0684969  1891.57729598 2095.60253865 1323.20242845\n",
      " 1837.36937555 1925.14363101 1461.3195711  1805.87061183 1969.17754969\n",
      "  957.99942009 1736.9306901  1417.08723169 1513.08360641 1615.90270609\n",
      " 1255.50848486 1558.66060734 1542.43580814 1392.74142132 1353.40172241\n",
      " 1458.98648231 1690.50413257 1560.93454913 1137.36566972 1245.00682729\n",
      " 1578.39461338 1166.02811096 1596.35717251 1106.20592819 1489.72771561\n",
      " 1454.53367861 1659.39995849  668.3972538  1605.67521277 1259.26707078\n",
      " 1303.3245524  1333.70919702 1513.12678473 1291.32498707 1263.12847943\n",
      " 1615.33835465 1454.90580069 1432.14617503 1445.93844959 1430.37485374\n",
      " 1305.69683396 1644.36843668 1436.30111359 1401.75231605 1269.56081645\n",
      " 1601.92245616 1608.80417978 1728.10808561 1702.02317519 1787.54959527\n",
      " 1164.21761998 1403.92457854 1702.72741996 1803.57503001 1723.5692295\n",
      " 1415.16649982 1010.49701742 1879.15128597 2000.0161666  1609.52422232\n",
      " 2651.7418594  2166.63471771 2180.0166666  2663.86265078 1531.28319465\n",
      " 2150.07410725 1795.1611503  2494.02757714 2119.22265623 2736.65127888\n",
      " 2122.06047668 1740.49462957 2895.0385528  2826.90655429 2312.55721851\n",
      "  803.92799567 2038.46827027 2341.27391724 2372.21771532 1654.98647192\n",
      " 2065.69186688 2168.3128618  2155.10283333 1329.53734643 2797.86144522\n",
      "  814.42535979 2658.07260999 1425.40996052 1684.38165377  835.89566069\n",
      "  737.0106286  1284.39151179 2932.62070889 2301.8487256  2835.95004657\n",
      " 1601.49950567 1515.48811352 1994.13294999  849.779187   1829.38477819\n",
      " 1074.98496114 1722.68401694  898.56886214 1565.2600068  2040.41586175\n",
      "  869.30930437 2077.62187769 1657.49771242]\n"
     ]
    }
   ],
   "source": [
    "print(standard_deviation)"
   ]
  },
  {
   "cell_type": "code",
   "execution_count": 10,
   "metadata": {},
   "outputs": [
    {
     "ename": "ValueError",
     "evalue": "x and y must have same first dimension, but have shapes (193,) and (1,)",
     "output_type": "error",
     "traceback": [
      "\u001b[1;31m---------------------------------------------------------------------------\u001b[0m",
      "\u001b[1;31mValueError\u001b[0m                                Traceback (most recent call last)",
      "Input \u001b[1;32mIn [10]\u001b[0m, in \u001b[0;36m<cell line: 4>\u001b[1;34m()\u001b[0m\n\u001b[0;32m      3\u001b[0m plot1\u001b[38;5;241m=\u001b[39m[\u001b[38;5;124m'\u001b[39m\u001b[38;5;124mpositive_control\u001b[39m\u001b[38;5;124m'\u001b[39m,\u001b[38;5;124m'\u001b[39m\u001b[38;5;124mnegative_control\u001b[39m\u001b[38;5;124m'\u001b[39m,\u001b[38;5;124m'\u001b[39m\u001b[38;5;124mnoATP_EGTA\u001b[39m\u001b[38;5;124m'\u001b[39m]\n\u001b[0;32m      4\u001b[0m \u001b[38;5;28;01mfor\u001b[39;00m key \u001b[38;5;129;01min\u001b[39;00m plot1:\n\u001b[1;32m----> 5\u001b[0m     \u001b[43mplt\u001b[49m\u001b[38;5;241;43m.\u001b[39;49m\u001b[43mplot\u001b[49m\u001b[43m(\u001b[49m\u001b[43mwavelengths\u001b[49m\u001b[43m,\u001b[49m\u001b[43m \u001b[49m\u001b[43mall_data\u001b[49m\u001b[43m[\u001b[49m\u001b[43mkey\u001b[49m\u001b[43m]\u001b[49m\u001b[43m,\u001b[49m\u001b[43m \u001b[49m\u001b[43mlabel\u001b[49m\u001b[38;5;241;43m=\u001b[39;49m\u001b[38;5;124;43m'\u001b[39;49m\u001b[38;5;132;43;01m{}\u001b[39;49;00m\u001b[38;5;124;43m Average\u001b[39;49m\u001b[38;5;124;43m'\u001b[39;49m\u001b[38;5;241;43m.\u001b[39;49m\u001b[43mformat\u001b[49m\u001b[43m(\u001b[49m\u001b[43mkey\u001b[49m\u001b[43m)\u001b[49m\u001b[43m)\u001b[49m\n\u001b[0;32m      6\u001b[0m     plt\u001b[38;5;241m.\u001b[39mxlabel(\u001b[38;5;124m'\u001b[39m\u001b[38;5;124mWavelengths\u001b[39m\u001b[38;5;124m'\u001b[39m)\n\u001b[0;32m      7\u001b[0m     plt\u001b[38;5;241m.\u001b[39mylabel(\u001b[38;5;124m'\u001b[39m\u001b[38;5;124mFluorescence Intensity\u001b[39m\u001b[38;5;124m'\u001b[39m)\n",
      "File \u001b[1;32m~\\anaconda3\\lib\\site-packages\\matplotlib\\pyplot.py:2757\u001b[0m, in \u001b[0;36mplot\u001b[1;34m(scalex, scaley, data, *args, **kwargs)\u001b[0m\n\u001b[0;32m   2755\u001b[0m \u001b[38;5;129m@_copy_docstring_and_deprecators\u001b[39m(Axes\u001b[38;5;241m.\u001b[39mplot)\n\u001b[0;32m   2756\u001b[0m \u001b[38;5;28;01mdef\u001b[39;00m \u001b[38;5;21mplot\u001b[39m(\u001b[38;5;241m*\u001b[39margs, scalex\u001b[38;5;241m=\u001b[39m\u001b[38;5;28;01mTrue\u001b[39;00m, scaley\u001b[38;5;241m=\u001b[39m\u001b[38;5;28;01mTrue\u001b[39;00m, data\u001b[38;5;241m=\u001b[39m\u001b[38;5;28;01mNone\u001b[39;00m, \u001b[38;5;241m*\u001b[39m\u001b[38;5;241m*\u001b[39mkwargs):\n\u001b[1;32m-> 2757\u001b[0m     \u001b[38;5;28;01mreturn\u001b[39;00m gca()\u001b[38;5;241m.\u001b[39mplot(\n\u001b[0;32m   2758\u001b[0m         \u001b[38;5;241m*\u001b[39margs, scalex\u001b[38;5;241m=\u001b[39mscalex, scaley\u001b[38;5;241m=\u001b[39mscaley,\n\u001b[0;32m   2759\u001b[0m         \u001b[38;5;241m*\u001b[39m\u001b[38;5;241m*\u001b[39m({\u001b[38;5;124m\"\u001b[39m\u001b[38;5;124mdata\u001b[39m\u001b[38;5;124m\"\u001b[39m: data} \u001b[38;5;28;01mif\u001b[39;00m data \u001b[38;5;129;01mis\u001b[39;00m \u001b[38;5;129;01mnot\u001b[39;00m \u001b[38;5;28;01mNone\u001b[39;00m \u001b[38;5;28;01melse\u001b[39;00m {}), \u001b[38;5;241m*\u001b[39m\u001b[38;5;241m*\u001b[39mkwargs)\n",
      "File \u001b[1;32m~\\anaconda3\\lib\\site-packages\\matplotlib\\axes\\_axes.py:1632\u001b[0m, in \u001b[0;36mAxes.plot\u001b[1;34m(self, scalex, scaley, data, *args, **kwargs)\u001b[0m\n\u001b[0;32m   1390\u001b[0m \u001b[38;5;124;03m\"\"\"\u001b[39;00m\n\u001b[0;32m   1391\u001b[0m \u001b[38;5;124;03mPlot y versus x as lines and/or markers.\u001b[39;00m\n\u001b[0;32m   1392\u001b[0m \n\u001b[1;32m   (...)\u001b[0m\n\u001b[0;32m   1629\u001b[0m \u001b[38;5;124;03m(``'green'``) or hex strings (``'#008000'``).\u001b[39;00m\n\u001b[0;32m   1630\u001b[0m \u001b[38;5;124;03m\"\"\"\u001b[39;00m\n\u001b[0;32m   1631\u001b[0m kwargs \u001b[38;5;241m=\u001b[39m cbook\u001b[38;5;241m.\u001b[39mnormalize_kwargs(kwargs, mlines\u001b[38;5;241m.\u001b[39mLine2D)\n\u001b[1;32m-> 1632\u001b[0m lines \u001b[38;5;241m=\u001b[39m [\u001b[38;5;241m*\u001b[39m\u001b[38;5;28mself\u001b[39m\u001b[38;5;241m.\u001b[39m_get_lines(\u001b[38;5;241m*\u001b[39margs, data\u001b[38;5;241m=\u001b[39mdata, \u001b[38;5;241m*\u001b[39m\u001b[38;5;241m*\u001b[39mkwargs)]\n\u001b[0;32m   1633\u001b[0m \u001b[38;5;28;01mfor\u001b[39;00m line \u001b[38;5;129;01min\u001b[39;00m lines:\n\u001b[0;32m   1634\u001b[0m     \u001b[38;5;28mself\u001b[39m\u001b[38;5;241m.\u001b[39madd_line(line)\n",
      "File \u001b[1;32m~\\anaconda3\\lib\\site-packages\\matplotlib\\axes\\_base.py:312\u001b[0m, in \u001b[0;36m_process_plot_var_args.__call__\u001b[1;34m(self, data, *args, **kwargs)\u001b[0m\n\u001b[0;32m    310\u001b[0m     this \u001b[38;5;241m+\u001b[39m\u001b[38;5;241m=\u001b[39m args[\u001b[38;5;241m0\u001b[39m],\n\u001b[0;32m    311\u001b[0m     args \u001b[38;5;241m=\u001b[39m args[\u001b[38;5;241m1\u001b[39m:]\n\u001b[1;32m--> 312\u001b[0m \u001b[38;5;28;01myield from\u001b[39;00m \u001b[38;5;28;43mself\u001b[39;49m\u001b[38;5;241;43m.\u001b[39;49m\u001b[43m_plot_args\u001b[49m\u001b[43m(\u001b[49m\u001b[43mthis\u001b[49m\u001b[43m,\u001b[49m\u001b[43m \u001b[49m\u001b[43mkwargs\u001b[49m\u001b[43m)\u001b[49m\n",
      "File \u001b[1;32m~\\anaconda3\\lib\\site-packages\\matplotlib\\axes\\_base.py:498\u001b[0m, in \u001b[0;36m_process_plot_var_args._plot_args\u001b[1;34m(self, tup, kwargs, return_kwargs)\u001b[0m\n\u001b[0;32m    495\u001b[0m     \u001b[38;5;28mself\u001b[39m\u001b[38;5;241m.\u001b[39maxes\u001b[38;5;241m.\u001b[39myaxis\u001b[38;5;241m.\u001b[39mupdate_units(y)\n\u001b[0;32m    497\u001b[0m \u001b[38;5;28;01mif\u001b[39;00m x\u001b[38;5;241m.\u001b[39mshape[\u001b[38;5;241m0\u001b[39m] \u001b[38;5;241m!=\u001b[39m y\u001b[38;5;241m.\u001b[39mshape[\u001b[38;5;241m0\u001b[39m]:\n\u001b[1;32m--> 498\u001b[0m     \u001b[38;5;28;01mraise\u001b[39;00m \u001b[38;5;167;01mValueError\u001b[39;00m(\u001b[38;5;124mf\u001b[39m\u001b[38;5;124m\"\u001b[39m\u001b[38;5;124mx and y must have same first dimension, but \u001b[39m\u001b[38;5;124m\"\u001b[39m\n\u001b[0;32m    499\u001b[0m                      \u001b[38;5;124mf\u001b[39m\u001b[38;5;124m\"\u001b[39m\u001b[38;5;124mhave shapes \u001b[39m\u001b[38;5;132;01m{\u001b[39;00mx\u001b[38;5;241m.\u001b[39mshape\u001b[38;5;132;01m}\u001b[39;00m\u001b[38;5;124m and \u001b[39m\u001b[38;5;132;01m{\u001b[39;00my\u001b[38;5;241m.\u001b[39mshape\u001b[38;5;132;01m}\u001b[39;00m\u001b[38;5;124m\"\u001b[39m)\n\u001b[0;32m    500\u001b[0m \u001b[38;5;28;01mif\u001b[39;00m x\u001b[38;5;241m.\u001b[39mndim \u001b[38;5;241m>\u001b[39m \u001b[38;5;241m2\u001b[39m \u001b[38;5;129;01mor\u001b[39;00m y\u001b[38;5;241m.\u001b[39mndim \u001b[38;5;241m>\u001b[39m \u001b[38;5;241m2\u001b[39m:\n\u001b[0;32m    501\u001b[0m     \u001b[38;5;28;01mraise\u001b[39;00m \u001b[38;5;167;01mValueError\u001b[39;00m(\u001b[38;5;124mf\u001b[39m\u001b[38;5;124m\"\u001b[39m\u001b[38;5;124mx and y can be no greater than 2D, but have \u001b[39m\u001b[38;5;124m\"\u001b[39m\n\u001b[0;32m    502\u001b[0m                      \u001b[38;5;124mf\u001b[39m\u001b[38;5;124m\"\u001b[39m\u001b[38;5;124mshapes \u001b[39m\u001b[38;5;132;01m{\u001b[39;00mx\u001b[38;5;241m.\u001b[39mshape\u001b[38;5;132;01m}\u001b[39;00m\u001b[38;5;124m and \u001b[39m\u001b[38;5;132;01m{\u001b[39;00my\u001b[38;5;241m.\u001b[39mshape\u001b[38;5;132;01m}\u001b[39;00m\u001b[38;5;124m\"\u001b[39m)\n",
      "\u001b[1;31mValueError\u001b[0m: x and y must have same first dimension, but have shapes (193,) and (1,)"
     ]
    },
    {
     "data": {
      "image/png": "[encoded data removed]",
      "text/plain": [
       "<Figure size 432x288 with 1 Axes>"
      ]
     },
     "metadata": {
      "needs_background": "light"
     },
     "output_type": "display_data"
    }
   ],
   "source": [
    "#Create graph comparing positive control, negative control, and noATP_EGTA\n",
    "\n",
    "plot1=['positive_control','negative_control','noATP_EGTA']\n",
    "for key in plot1:\n",
    "    plt.plot(wavelengths, all_data[key], label='{} Average'.format(key))\n",
    "    plt.xlabel('Wavelengths')\n",
    "    plt.ylabel('Fluorescence Intensity')\n",
    "plt.legend(loc=0)\n",
    "\n",
    "plt.savefig(\"phagocytosis_7_18_22_plot1.jpg\",bbox_inches='tight',dpi=500)"
   ]
  },
  {
   "cell_type": "code",
   "execution_count": null,
   "metadata": {},
   "outputs": [],
   "source": [
    "#Create graph comparing positive control, negative control, noATP_EGTA, and noATP_noEGTA\n",
    "\n",
    "plot2=['positive_control','negative_control','noATP_EGTA','noATP_noEGTA']\n",
    "for key in plot2:\n",
    "    plt.plot(wavelengths, all_data[key], label='{} Average'.format(key))\n",
    "    plt.xlabel('Wavelengths')\n",
    "    plt.ylabel('Fluorescence Intensity')\n",
    "plt.legend(loc=0)\n",
    "\n",
    "plt.savefig(\"phagocytosis_7_18_22_plot2.jpg\",bbox_inches='tight',dpi=500)"
   ]
  },
  {
   "cell_type": "code",
   "execution_count": null,
   "metadata": {},
   "outputs": [],
   "source": [
    "#Create graph comparing positive control, negative control, three concentrations of ATP_EGTA and ATP_noEGTA\n",
    "\n",
    "plot3=['positive_control','negative_control','0uM_ATP_EGTA', '300uM_ATP_EGTA', '3mM_ATP_EGTA', '0uM_ATP_noEGTA', '300uM_ATP_noEGTA', '3mM_ATP_noEGTA',]\n",
    "for key in plot3:\n",
    "    plt.plot(wavelengths, all_data[key], label='{} Average'.format(key))\n",
    "    plt.xlabel('Wavelengths')\n",
    "    plt.ylabel('Fluorescence Intensity')\n",
    "plt.legend(loc=0)\n",
    "\n",
    "plt.savefig(\"phagocytosis_7_18_22_plot3.jpg\",bbox_inches='tight',dpi=500)"
   ]
  },
  {
   "cell_type": "code",
   "execution_count": null,
   "metadata": {},
   "outputs": [],
   "source": [
    "#Create graph comparing positive control, negative control, three concentrations of delayed_ATP_EGTA and delayed_ATP_noEGTA\n",
    "\n",
    "plot4=['positive_control','negative_control','0uM_delayed_ATP_EGTA', '300uM_delayed_ATP_EGTA', '3mM_delayed_ATP_EGTA', '0uM_delayed_ATP_noEGTA', '300uM_delayed_ATP_noEGTA', '3mM_delayed_ATP_noEGTA',]\n",
    "for key in plot4:\n",
    "    plt.plot(wavelengths, all_data[key], label='{} Average'.format(key))\n",
    "    plt.xlabel('Wavelengths')\n",
    "    plt.ylabel('Fluorescence Intensity')\n",
    "plt.legend(loc=0)\n",
    "\n",
    "plt.savefig(\"phagocytosis_7_18_22_plot4.jpg\",bbox_inches='tight',dpi=500)"
   ]
  },
  {
   "cell_type": "markdown",
   "metadata": {},
   "source": [
    "##  A different way "
   ]
  },
  {
   "cell_type": "code",
   "execution_count": null,
   "metadata": {},
   "outputs": [],
   "source": [
    "# store all controls \n",
    "\n",
    "myctls = (\"E01\",\"E02\")\n",
    "# create array to hold data\n",
    "print( np.shape( wavelengths ))\n",
    "numValues = np.shape( wavelengths )[0]\n",
    "numCtls = len(myctls) # since its a string \n",
    "\n",
    "data = np.zeros([numCtls,numValues])\n",
    "print(np.shape(data))\n",
    "for i, label in enumerate( myctls ):\n",
    "    print(i,label)\n",
    "    \n",
    "    idata = np.array( df[label])\n",
    "    data[i,] = idata[2:]\n",
    "    \n",
    "\n",
    "# average the controls\n",
    "avg_data = np.average(data,axis=0)\n",
    "print(np.shape(avg_data))"
   ]
  },
  {
   "cell_type": "code",
   "execution_count": null,
   "metadata": {},
   "outputs": [],
   "source": [
    "# store all neg controls \n",
    "\n",
    "myctls = (\"E04\",\"E05\",\"E06\")\n",
    "# create array to hold data\n",
    "print( np.shape( wavelengths ))\n",
    "numValues = np.shape( wavelengths )[0]\n",
    "numCtls = len(myctls) # since its a string \n",
    "\n",
    "data = np.zeros([numCtls,numValues])\n",
    "print(np.shape(data))\n",
    "for i, label in enumerate( myctls ):\n",
    "    print(i,label)\n",
    "    \n",
    "    idata = np.array( df[label])\n",
    "    data[i,] = idata[2:]\n",
    "    \n",
    "\n",
    "# average the controls\n",
    "avg_negdata = np.average(data,axis=0)\n",
    "print(np.shape(avg_negdata))"
   ]
  },
  {
   "cell_type": "code",
   "execution_count": null,
   "metadata": {},
   "outputs": [],
   "source": [
    "# store all neg controls \n",
    "\n",
    "myATPNoEGTA = (\"H04\",\"H05\",\"H06\")\n",
    "# create array to hold data\n",
    "print( np.shape( wavelengths ))\n",
    "numValues = np.shape( wavelengths )[0]\n",
    "numCtls = len(myctls) # since its a string \n",
    "\n",
    "data = np.zeros([numCtls,numValues])\n",
    "print(np.shape(data))\n",
    "for i, label in enumerate( myATPNoEGTA ):\n",
    "    print(i,label)\n",
    "    \n",
    "    idata = np.array( df[label])\n",
    "    data[i,] = idata[2:]\n",
    "    \n",
    "\n",
    "# average the controls\n",
    "avg_ATPNoEGTA = np.average(data,axis=0)"
   ]
  },
  {
   "cell_type": "code",
   "execution_count": null,
   "metadata": {},
   "outputs": [],
   "source": [
    "\n",
    "# correct all data \n",
    "corr_ctl = avg_data - avg_negdata \n",
    "corr_ATPNoEGTA = avg_ATPNoEGTA - avg_negdata \n"
   ]
  },
  {
   "cell_type": "code",
   "execution_count": null,
   "metadata": {},
   "outputs": [],
   "source": [
    "#plt.plot(wavelengths,data[0,:])\n",
    "plt.plot(wavelengths,avg_data,label='positive control (raw)')\n",
    "plt.plot(wavelengths,avg_negdata,label='negative control (raw)')\n",
    "\n",
    "\n",
    "plt.plot(wavelengths,corr_data,'--b',label='negative control (raw)')"
   ]
  },
  {
   "cell_type": "code",
   "execution_count": null,
   "metadata": {},
   "outputs": [],
   "source": [
    "plt.plot(wavelengths,corr_ctl,label=\"corrected control\")\n",
    "plt.plot(wavelengths,corr_ATPNoEGTA,label=\"+500 uM ATP/-EGTA\")\n",
    "plt.legend(loc=0)"
   ]
  },
  {
   "cell_type": "code",
   "execution_count": null,
   "metadata": {},
   "outputs": [],
   "source": [
    "args = np.argwhere( wavelengths < (525 + 5) )\n",
    "#plt.plot(wavelengths[args],corr_ATPNoEGTA[args])\n",
    "avgPeak = np.average( corr_ATPNoEGTA[args] )\n",
    "print(avgPeak)"
   ]
  },
  {
   "cell_type": "code",
   "execution_count": null,
   "metadata": {},
   "outputs": [],
   "source": [
    "args"
   ]
  },
  {
   "cell_type": "code",
   "execution_count": null,
   "metadata": {},
   "outputs": [],
   "source": []
  }
 ],
 "metadata": {
  "kernelspec": {
   "display_name": "Python 3 (ipykernel)",
   "language": "python",
   "name": "python3"
  },
  "language_info": {
   "codemirror_mode": {
    "name": "ipython",
    "version": 3
   },
   "file_extension": ".py",
   "mimetype": "text/x-python",
   "name": "python",
   "nbconvert_exporter": "python",
   "pygments_lexer": "ipython3",
   "version": "3.9.12"
  }
 },
 "nbformat": 4,
 "nbformat_minor": 4
}
